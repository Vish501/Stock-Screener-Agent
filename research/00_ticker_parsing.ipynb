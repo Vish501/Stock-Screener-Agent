{
 "cells": [
  {
   "cell_type": "markdown",
   "id": "2b278855",
   "metadata": {},
   "source": [
    "# Environment Setting Up"
   ]
  },
  {
   "cell_type": "code",
   "execution_count": 1,
   "id": "f16d6c96",
   "metadata": {},
   "outputs": [
    {
     "data": {
      "text/plain": [
       "'D:\\\\Projects\\\\Stock Screener\\\\Stock-Screener-Agent'"
      ]
     },
     "execution_count": 1,
     "metadata": {},
     "output_type": "execute_result"
    }
   ],
   "source": [
    "import os\n",
    "from dotenv import load_dotenv\n",
    "\n",
    "# Loading environment variables from .env\n",
    "load_dotenv()\n",
    "\n",
    "# Changing directory to main directory for easy data access\n",
    "working_directory = os.getenv(\"WORKING_DIRECTORY\")\n",
    "os.chdir(working_directory)\n",
    "\n",
    "# Checking the change\n",
    "%pwd"
   ]
  },
  {
   "cell_type": "code",
   "execution_count": 2,
   "id": "c176cd05",
   "metadata": {},
   "outputs": [
    {
     "name": "stdout",
     "output_type": "stream",
     "text": [
      "Git folder exists: True\n"
     ]
    }
   ],
   "source": [
    "from pathlib import Path\n",
    "\n",
    "# Checking the change\n",
    "print(\"Git folder exists:\", Path(\".git\").exists())"
   ]
  },
  {
   "cell_type": "markdown",
   "id": "dca9ec8d",
   "metadata": {},
   "source": [
    "# 0. Ticker Parsing"
   ]
  },
  {
   "cell_type": "code",
   "execution_count": 6,
   "id": "9104d825",
   "metadata": {},
   "outputs": [],
   "source": [
    "from typing import Annotated \n",
    "from langgraph.graph import START, END, StateGraph\n",
    "from langgraph.graph.message import add_messages \n",
    "from langgraph.checkpoint.memory import InMemorySaver \n",
    "from langchain_ollama import ChatOllama\n",
    "from colorama import Fore \n",
    "from langgraph.prebuilt import ToolNode \n",
    "\n",
    "llm = ChatOllama(model='qwen2.5:14b')"
   ]
  },
  {
   "cell_type": "code",
   "execution_count": null,
   "id": "9461362a",
   "metadata": {},
   "outputs": [],
   "source": [
    "from langchain.tools import tool \n",
    "import yfinance as yf \n",
    "\n",
    "@tool\n",
    "def simple_screener(screen_type:str, offset:int)-> str: \n",
    "    \"\"\"Returns screened assets (stocks, funds, bonds) given popular criteria. \n",
    "\n",
    "    Args:\n",
    "        screen_type: One of a default set of stock screener queries from yahoo finance. \n",
    "        aggressive_small_caps\n",
    "        day_gainers\n",
    "        day_losers\n",
    "        growth_technology_stocks\n",
    "        most_actives\n",
    "        most_shorted_stocks\n",
    "        small_cap_gainers\n",
    "        undervalued_growth_stocks\n",
    "        undervalued_large_caps\n",
    "        conservative_foreign_funds\n",
    "        high_yield_bond\n",
    "        portfolio_anchors\n",
    "        solid_large_growth_funds\n",
    "        solid_midcap_growth_funds\n",
    "        top_mutual_funds\n",
    "      offset: the pagination start point\n",
    "\n",
    "    Returns:\n",
    "        The a JSON output of assets that meet the criteria\n",
    "        \"\"\"\n",
    "    \n",
    "    query = yf.PREDEFINED_SCREENER_QUERIES[screen_type]['query']\n",
    "    result = yf.screen(query, offset=offset, size=5) \n",
    "     \n",
    "    fields = [\"symbol\"] \n",
    "    output_data = []\n",
    "    for stock_detail in result['quotes']: \n",
    "        details = {}\n",
    "        for key, val in stock_detail.items(): \n",
    "            if key in fields: \n",
    "                details[key] = val \n",
    "        output_data.append(details) \n",
    "    \n",
    "    return f\"Stock Screener Results: {output_data}\""
   ]
  },
  {
   "cell_type": "code",
   "execution_count": 15,
   "id": "6f6e9d0a",
   "metadata": {},
   "outputs": [],
   "source": [
    "tools = [simple_screener]\n",
    "llm_with_tools = llm.bind_tools(tools)\n",
    "tool_node = ToolNode(tools)"
   ]
  },
  {
   "cell_type": "code",
   "execution_count": null,
   "id": "2af899e7",
   "metadata": {},
   "outputs": [],
   "source": [
    "class State(dict): \n",
    "    messages: Annotated[list, add_messages]\n",
    "\n",
    "def chatbot(state:State): \n",
    "    print(state['messages'])\n",
    "    return {\"messages\":[llm_with_tools.invoke(state['messages'])]}\n",
    "\n",
    "def router(state:State): \n",
    "    last_message = state['messages'][-1]\n",
    "    if hasattr(last_message, 'tool_calls') and last_message.tool_calls: \n",
    "        return \"tools\" \n",
    "    else: \n",
    "        return END \n",
    "\n",
    "\n",
    "graph_builder = StateGraph(State)\n",
    "graph_builder.add_node(\"chatbot\", chatbot)\n",
    "graph_builder.add_node(\"tools\", tool_node)\n",
    "graph_builder.add_edge(START, \"chatbot\")\n",
    "\n",
    "graph_builder.add_edge(\"tools\", \"chatbot\")\n",
    "graph_builder.add_conditional_edges(\"chatbot\", router)\n",
    "\n",
    "memory = InMemorySaver() \n",
    "graph = graph_builder.compile(checkpointer=memory)"
   ]
  },
  {
   "cell_type": "code",
   "execution_count": 17,
   "id": "21020f05",
   "metadata": {},
   "outputs": [
    {
     "name": "stdout",
     "output_type": "stream",
     "text": [
      "[HumanMessage(content='top 5', additional_kwargs={}, response_metadata={}, id='926874d7-315b-453e-b4ba-0ca15fb522f4')]\n",
      "[HumanMessage(content='top 5', additional_kwargs={}, response_metadata={}, id='926874d7-315b-453e-b4ba-0ca15fb522f4'), AIMessage(content=\"It seems like you're looking for the top 5 assets according to one of the screening criteria from Yahoo Finance. Could you please specify which type of screen (e.g., `day_gainers`, `most_actives`) and how many results you want beyond these five? If not specified, I'll default to fetching the top 5 small cap gainers as an example.\\n\\nWould you like to proceed with `small_cap_gainers`?\\n\", additional_kwargs={}, response_metadata={'model': 'qwen2.5:14b', 'created_at': '2025-10-17T12:04:41.4645785Z', 'done': True, 'done_reason': 'stop', 'total_duration': 6625389900, 'load_duration': 3323557500, 'prompt_eval_count': 324, 'prompt_eval_duration': 187178200, 'eval_count': 121, 'eval_duration': 2891514800, 'model_name': 'qwen2.5:14b'}, id='run--192f4b4b-933f-4695-b1f0-88d1f1341fa9-0', tool_calls=[{'name': 'simple_screener', 'args': {'offset': 0, 'screen_type': 'small_cap_gainers'}, 'id': '528fd304-979f-45d4-ad65-56f97c823974', 'type': 'tool_call'}], usage_metadata={'input_tokens': 324, 'output_tokens': 121, 'total_tokens': 445}), ToolMessage(content=\"Stock Screener Results: [{'symbol': 'ZYXI'}, {'symbol': 'ZYME'}, {'symbol': 'ZVRA'}, {'symbol': 'ZVIA'}, {'symbol': 'ZUMZ'}]\", name='simple_screener', id='792e901e-a0d2-4c56-b2d5-53a5d7dcc432', tool_call_id='528fd304-979f-45d4-ad65-56f97c823974')]\n",
      "\u001b[93mHere are the top 5 small cap gainers based on the screener:\n",
      "\n",
      "1. **ZYXI**\n",
      "2. **ZYME**\n",
      "3. **ZVRA**\n",
      "4. **ZVIA**\n",
      "5. **ZUMZ**\n",
      "\n",
      "Would you like to screen for a different type of asset or criteria?\u001b[39m\n"
     ]
    }
   ],
   "source": [
    "prompt = input(\"🤖 Pass your prompt here: \" )\n",
    "result = graph.invoke({\"messages\":[{\"role\":\"user\", \"content\":prompt}]}, config={\"configurable\":{\"thread_id\":1234}})\n",
    "print(Fore.LIGHTYELLOW_EX + result['messages'][-1].content + Fore.RESET) "
   ]
  },
  {
   "cell_type": "code",
   "execution_count": 12,
   "id": "5264ee71",
   "metadata": {},
   "outputs": [
    {
     "name": "stdout",
     "output_type": "stream",
     "text": [
      "[HumanMessage(content='Top 5 gainers', additional_kwargs={}, response_metadata={}, id='9eb6f95d-ef0b-40b9-90a8-dc283eaba38b'), AIMessage(content='', additional_kwargs={}, response_metadata={'model': 'qwen2.5:14b', 'created_at': '2025-10-17T11:28:35.9670911Z', 'done': True, 'done_reason': 'stop', 'total_duration': 35201784500, 'load_duration': 34021665300, 'prompt_eval_count': 326, 'prompt_eval_duration': 387404700, 'eval_count': 31, 'eval_duration': 686144000, 'model_name': 'qwen2.5:14b'}, id='run--eb81be83-2da0-4b8f-9821-eebe51aedea4-0', tool_calls=[{'name': 'simple_screener', 'args': {'offset': 0, 'screen_type': 'day_gainers'}, 'id': '597dd125-25e8-402c-9e9b-b62091825592', 'type': 'tool_call'}], usage_metadata={'input_tokens': 326, 'output_tokens': 31, 'total_tokens': 357}), ToolMessage(content=\"Stock Screener Results: [{'bid': 9.07, 'ask': 10.25, 'shortName': 'Ermenegildo Zegna N.V.', 'exchange': 'NYQ', 'fiftyTwoWeekHigh': 10.38, 'fiftyTwoWeekLow': 6.05, 'averageAnalystRating': '1.8 - Buy', 'dividendYield': 1.39, 'symbol': 'ZGN'}, {'bid': 357.0, 'ask': 373.0, 'shortName': 'Watsco, Inc.', 'exchange': 'NYQ', 'fiftyTwoWeekHigh': 571.42, 'fiftyTwoWeekLow': 350.0, 'averageAnalystRating': '2.9 - Hold', 'dividendYield': 3.25, 'symbol': 'WSO'}, {'bid': 121.64, 'ask': 132.35, 'shortName': 'Western Digital Corporation', 'exchange': 'NMS', 'fiftyTwoWeekHigh': 137.4, 'fiftyTwoWeekLow': 28.83, 'averageAnalystRating': '1.7 - Buy', 'dividendYield': 0.32, 'symbol': 'WDC'}, {'bid': 43.75, 'ask': 77.1, 'shortName': 'Vicor Corporation', 'exchange': 'NMS', 'fiftyTwoWeekHigh': 65.7, 'fiftyTwoWeekLow': 38.92, 'symbol': 'VICR'}, {'bid': 54.53, 'ask': 55.17, 'shortName': 'VEON Ltd.', 'exchange': 'NCM', 'fiftyTwoWeekHigh': 64.0, 'fiftyTwoWeekLow': 29.29, 'symbol': 'VEON'}]\", name='simple_screener', id='3250580b-7d83-4d5f-8b0a-6d8c30933da8', tool_call_id='597dd125-25e8-402c-9e9b-b62091825592'), AIMessage(content='Here are the top 5 gainers based on the latest performance:\\n\\n1. **Ermenegildo Zegna N.V.**\\n   - Bid: $9.07\\n   - Ask: $10.25\\n   - Exchange: NYQ\\n   - Dividend Yield: 1.39%\\n   - Rating: Buy (Average Analyst Rating)\\n\\n2. **Watsco, Inc.**\\n   - Bid: $357.00\\n   - Ask: $373.00\\n   - Exchange: NYQ\\n   - Dividend Yield: 3.25%\\n   - Rating: Hold\\n\\n3. **Western Digital Corporation**\\n   - Bid: $121.64\\n   - Ask: $132.35\\n   - Exchange: NMS\\n   - Dividend Yield: 0.32%\\n   - Rating: Buy (Average Analyst Rating)\\n\\n4. **Vicor Corporation**\\n   - Bid: $43.75\\n   - Ask: $77.10\\n   - Exchange: NMS\\n\\n5. **VEON Ltd.**\\n   - Bid: $54.53\\n   - Ask: $55.17\\n   - Exchange: NCM', additional_kwargs={}, response_metadata={'model': 'qwen2.5:14b', 'created_at': '2025-10-17T11:28:43.7572866Z', 'done': True, 'done_reason': 'stop', 'total_duration': 7268914100, 'load_duration': 67339000, 'prompt_eval_count': 814, 'prompt_eval_duration': 323572100, 'eval_count': 271, 'eval_duration': 6261985200, 'model_name': 'qwen2.5:14b'}, id='run--65559f18-9f8d-4459-926e-65338b550c98-0', usage_metadata={'input_tokens': 814, 'output_tokens': 271, 'total_tokens': 1085}), HumanMessage(content='Apple stock', additional_kwargs={}, response_metadata={}, id='5411ace9-46c4-4938-9be2-8daba1559b91')]\n",
      "[HumanMessage(content='Top 5 gainers', additional_kwargs={}, response_metadata={}, id='9eb6f95d-ef0b-40b9-90a8-dc283eaba38b'), AIMessage(content='', additional_kwargs={}, response_metadata={'model': 'qwen2.5:14b', 'created_at': '2025-10-17T11:28:35.9670911Z', 'done': True, 'done_reason': 'stop', 'total_duration': 35201784500, 'load_duration': 34021665300, 'prompt_eval_count': 326, 'prompt_eval_duration': 387404700, 'eval_count': 31, 'eval_duration': 686144000, 'model_name': 'qwen2.5:14b'}, id='run--eb81be83-2da0-4b8f-9821-eebe51aedea4-0', tool_calls=[{'name': 'simple_screener', 'args': {'offset': 0, 'screen_type': 'day_gainers'}, 'id': '597dd125-25e8-402c-9e9b-b62091825592', 'type': 'tool_call'}], usage_metadata={'input_tokens': 326, 'output_tokens': 31, 'total_tokens': 357}), ToolMessage(content=\"Stock Screener Results: [{'bid': 9.07, 'ask': 10.25, 'shortName': 'Ermenegildo Zegna N.V.', 'exchange': 'NYQ', 'fiftyTwoWeekHigh': 10.38, 'fiftyTwoWeekLow': 6.05, 'averageAnalystRating': '1.8 - Buy', 'dividendYield': 1.39, 'symbol': 'ZGN'}, {'bid': 357.0, 'ask': 373.0, 'shortName': 'Watsco, Inc.', 'exchange': 'NYQ', 'fiftyTwoWeekHigh': 571.42, 'fiftyTwoWeekLow': 350.0, 'averageAnalystRating': '2.9 - Hold', 'dividendYield': 3.25, 'symbol': 'WSO'}, {'bid': 121.64, 'ask': 132.35, 'shortName': 'Western Digital Corporation', 'exchange': 'NMS', 'fiftyTwoWeekHigh': 137.4, 'fiftyTwoWeekLow': 28.83, 'averageAnalystRating': '1.7 - Buy', 'dividendYield': 0.32, 'symbol': 'WDC'}, {'bid': 43.75, 'ask': 77.1, 'shortName': 'Vicor Corporation', 'exchange': 'NMS', 'fiftyTwoWeekHigh': 65.7, 'fiftyTwoWeekLow': 38.92, 'symbol': 'VICR'}, {'bid': 54.53, 'ask': 55.17, 'shortName': 'VEON Ltd.', 'exchange': 'NCM', 'fiftyTwoWeekHigh': 64.0, 'fiftyTwoWeekLow': 29.29, 'symbol': 'VEON'}]\", name='simple_screener', id='3250580b-7d83-4d5f-8b0a-6d8c30933da8', tool_call_id='597dd125-25e8-402c-9e9b-b62091825592'), AIMessage(content='Here are the top 5 gainers based on the latest performance:\\n\\n1. **Ermenegildo Zegna N.V.**\\n   - Bid: $9.07\\n   - Ask: $10.25\\n   - Exchange: NYQ\\n   - Dividend Yield: 1.39%\\n   - Rating: Buy (Average Analyst Rating)\\n\\n2. **Watsco, Inc.**\\n   - Bid: $357.00\\n   - Ask: $373.00\\n   - Exchange: NYQ\\n   - Dividend Yield: 3.25%\\n   - Rating: Hold\\n\\n3. **Western Digital Corporation**\\n   - Bid: $121.64\\n   - Ask: $132.35\\n   - Exchange: NMS\\n   - Dividend Yield: 0.32%\\n   - Rating: Buy (Average Analyst Rating)\\n\\n4. **Vicor Corporation**\\n   - Bid: $43.75\\n   - Ask: $77.10\\n   - Exchange: NMS\\n\\n5. **VEON Ltd.**\\n   - Bid: $54.53\\n   - Ask: $55.17\\n   - Exchange: NCM', additional_kwargs={}, response_metadata={'model': 'qwen2.5:14b', 'created_at': '2025-10-17T11:28:43.7572866Z', 'done': True, 'done_reason': 'stop', 'total_duration': 7268914100, 'load_duration': 67339000, 'prompt_eval_count': 814, 'prompt_eval_duration': 323572100, 'eval_count': 271, 'eval_duration': 6261985200, 'model_name': 'qwen2.5:14b'}, id='run--65559f18-9f8d-4459-926e-65338b550c98-0', usage_metadata={'input_tokens': 814, 'output_tokens': 271, 'total_tokens': 1085}), HumanMessage(content='Apple stock', additional_kwargs={}, response_metadata={}, id='5411ace9-46c4-4938-9be2-8daba1559b91'), AIMessage(content=\"To provide you with detailed information about Apple Inc.'s (AAPL) stock, I will need to run a specific query or use another tool designed for individual stock details since the screener results don't include AAPL. However, based on typical data points we would usually look at, here is an example of what I can provide:\\n\\nLet's fetch the current market data for Apple Inc.\\n\\n\", additional_kwargs={}, response_metadata={'model': 'qwen2.5:14b', 'created_at': '2025-10-17T11:39:43.7805048Z', 'done': True, 'done_reason': 'stop', 'total_duration': 6903408400, 'load_duration': 3312270100, 'prompt_eval_count': 1096, 'prompt_eval_duration': 234098200, 'eval_count': 114, 'eval_duration': 2344127100, 'model_name': 'qwen2.5:14b'}, id='run--df5adb39-6f4d-460a-95f4-c7a9681a48a2-0', tool_calls=[{'name': 'simple_screener', 'args': {'offset': 0, 'screen_type': 'undervalued_large_caps', 'symbol': 'AAPL'}, 'id': '689734f6-2ba9-4615-9dd0-2e802c0e58e5', 'type': 'tool_call'}], usage_metadata={'input_tokens': 1096, 'output_tokens': 114, 'total_tokens': 1210}), ToolMessage(content=\"Stock Screener Results: [{'shortName': 'YPF Sociedad Anonima', 'bid': 0.0, 'ask': 27.0, 'exchange': 'NYQ', 'fiftyTwoWeekHigh': 47.43, 'fiftyTwoWeekLow': 22.82, 'averageAnalystRating': '1.9 - Buy', 'symbol': 'YPF'}, {'shortName': 'Woori Financial Group Inc.', 'bid': 0.0, 'ask': 56.09, 'exchange': 'NYQ', 'fiftyTwoWeekHigh': 57.97, 'fiftyTwoWeekLow': 29.44, 'dividendYield': 4.88, 'symbol': 'WF'}, {'shortName': 'Western Midstream Partners, LP', 'bid': 0.0, 'ask': 37.85, 'exchange': 'NYQ', 'fiftyTwoWeekHigh': 43.33, 'fiftyTwoWeekLow': 33.6, 'averageAnalystRating': '2.9 - Hold', 'dividendYield': 9.67, 'symbol': 'WES'}, {'shortName': 'Western Digital Corporation', 'bid': 121.64, 'ask': 132.35, 'exchange': 'NMS', 'fiftyTwoWeekHigh': 137.4, 'fiftyTwoWeekLow': 28.83, 'averageAnalystRating': '1.7 - Buy', 'dividendYield': 0.32, 'symbol': 'WDC'}, {'shortName': 'Viper Energy, Inc.', 'bid': 36.17, 'ask': 36.3, 'exchange': 'NMS', 'fiftyTwoWeekHigh': 56.76, 'fiftyTwoWeekLow': 34.71, 'averageAnalystRating': '1.3 - Strong Buy', 'dividendYield': 6.52, 'symbol': 'VNOM'}]\", name='simple_screener', id='d3793e77-e6f1-44b7-86a4-c22c720f9a82', tool_call_id='689734f6-2ba9-4615-9dd0-2e802c0e58e5')]\n",
      "\u001b[93mIt looks like there was an issue fetching Apple Inc.'s specific stock details from the screener results provided. Let's fetch detailed information about Apple Inc. (AAPL) using a different method or tool designed for individual stocks.\n",
      "\n",
      "However, since I don't have direct access to real-time data tools at this moment, here’s how you can typically check Apple Inc.'s stock details:\n",
      "\n",
      "- **Symbol:** AAPL\n",
      "- Visit finance websites like Yahoo Finance, Google Finance, or Nasdaq.com and enter \"AAPL\" in the search bar.\n",
      "- Look for key metrics such as current price, 52-week range, market cap, earnings per share (EPS), dividend yield, etc.\n",
      "\n",
      "Would you prefer I attempt to fetch this information another way?\u001b[39m\n"
     ]
    }
   ],
   "source": [
    "prompt = input(\"🤖 Pass your prompt here: \" )\n",
    "result = graph.invoke({\"messages\":[{\"role\":\"user\", \"content\":prompt}]}, config={\"configurable\":{\"thread_id\":1234}})\n",
    "print(Fore.LIGHTYELLOW_EX + result['messages'][-1].content + Fore.RESET) "
   ]
  },
  {
   "cell_type": "code",
   "execution_count": 13,
   "id": "78ddb242",
   "metadata": {},
   "outputs": [
    {
     "name": "stdout",
     "output_type": "stream",
     "text": [
      "[HumanMessage(content='Top 5 gainers', additional_kwargs={}, response_metadata={}, id='9eb6f95d-ef0b-40b9-90a8-dc283eaba38b'), AIMessage(content='', additional_kwargs={}, response_metadata={'model': 'qwen2.5:14b', 'created_at': '2025-10-17T11:28:35.9670911Z', 'done': True, 'done_reason': 'stop', 'total_duration': 35201784500, 'load_duration': 34021665300, 'prompt_eval_count': 326, 'prompt_eval_duration': 387404700, 'eval_count': 31, 'eval_duration': 686144000, 'model_name': 'qwen2.5:14b'}, id='run--eb81be83-2da0-4b8f-9821-eebe51aedea4-0', tool_calls=[{'name': 'simple_screener', 'args': {'offset': 0, 'screen_type': 'day_gainers'}, 'id': '597dd125-25e8-402c-9e9b-b62091825592', 'type': 'tool_call'}], usage_metadata={'input_tokens': 326, 'output_tokens': 31, 'total_tokens': 357}), ToolMessage(content=\"Stock Screener Results: [{'bid': 9.07, 'ask': 10.25, 'shortName': 'Ermenegildo Zegna N.V.', 'exchange': 'NYQ', 'fiftyTwoWeekHigh': 10.38, 'fiftyTwoWeekLow': 6.05, 'averageAnalystRating': '1.8 - Buy', 'dividendYield': 1.39, 'symbol': 'ZGN'}, {'bid': 357.0, 'ask': 373.0, 'shortName': 'Watsco, Inc.', 'exchange': 'NYQ', 'fiftyTwoWeekHigh': 571.42, 'fiftyTwoWeekLow': 350.0, 'averageAnalystRating': '2.9 - Hold', 'dividendYield': 3.25, 'symbol': 'WSO'}, {'bid': 121.64, 'ask': 132.35, 'shortName': 'Western Digital Corporation', 'exchange': 'NMS', 'fiftyTwoWeekHigh': 137.4, 'fiftyTwoWeekLow': 28.83, 'averageAnalystRating': '1.7 - Buy', 'dividendYield': 0.32, 'symbol': 'WDC'}, {'bid': 43.75, 'ask': 77.1, 'shortName': 'Vicor Corporation', 'exchange': 'NMS', 'fiftyTwoWeekHigh': 65.7, 'fiftyTwoWeekLow': 38.92, 'symbol': 'VICR'}, {'bid': 54.53, 'ask': 55.17, 'shortName': 'VEON Ltd.', 'exchange': 'NCM', 'fiftyTwoWeekHigh': 64.0, 'fiftyTwoWeekLow': 29.29, 'symbol': 'VEON'}]\", name='simple_screener', id='3250580b-7d83-4d5f-8b0a-6d8c30933da8', tool_call_id='597dd125-25e8-402c-9e9b-b62091825592'), AIMessage(content='Here are the top 5 gainers based on the latest performance:\\n\\n1. **Ermenegildo Zegna N.V.**\\n   - Bid: $9.07\\n   - Ask: $10.25\\n   - Exchange: NYQ\\n   - Dividend Yield: 1.39%\\n   - Rating: Buy (Average Analyst Rating)\\n\\n2. **Watsco, Inc.**\\n   - Bid: $357.00\\n   - Ask: $373.00\\n   - Exchange: NYQ\\n   - Dividend Yield: 3.25%\\n   - Rating: Hold\\n\\n3. **Western Digital Corporation**\\n   - Bid: $121.64\\n   - Ask: $132.35\\n   - Exchange: NMS\\n   - Dividend Yield: 0.32%\\n   - Rating: Buy (Average Analyst Rating)\\n\\n4. **Vicor Corporation**\\n   - Bid: $43.75\\n   - Ask: $77.10\\n   - Exchange: NMS\\n\\n5. **VEON Ltd.**\\n   - Bid: $54.53\\n   - Ask: $55.17\\n   - Exchange: NCM', additional_kwargs={}, response_metadata={'model': 'qwen2.5:14b', 'created_at': '2025-10-17T11:28:43.7572866Z', 'done': True, 'done_reason': 'stop', 'total_duration': 7268914100, 'load_duration': 67339000, 'prompt_eval_count': 814, 'prompt_eval_duration': 323572100, 'eval_count': 271, 'eval_duration': 6261985200, 'model_name': 'qwen2.5:14b'}, id='run--65559f18-9f8d-4459-926e-65338b550c98-0', usage_metadata={'input_tokens': 814, 'output_tokens': 271, 'total_tokens': 1085}), HumanMessage(content='Apple stock', additional_kwargs={}, response_metadata={}, id='5411ace9-46c4-4938-9be2-8daba1559b91'), AIMessage(content=\"To provide you with detailed information about Apple Inc.'s (AAPL) stock, I will need to run a specific query or use another tool designed for individual stock details since the screener results don't include AAPL. However, based on typical data points we would usually look at, here is an example of what I can provide:\\n\\nLet's fetch the current market data for Apple Inc.\\n\\n\", additional_kwargs={}, response_metadata={'model': 'qwen2.5:14b', 'created_at': '2025-10-17T11:39:43.7805048Z', 'done': True, 'done_reason': 'stop', 'total_duration': 6903408400, 'load_duration': 3312270100, 'prompt_eval_count': 1096, 'prompt_eval_duration': 234098200, 'eval_count': 114, 'eval_duration': 2344127100, 'model_name': 'qwen2.5:14b'}, id='run--df5adb39-6f4d-460a-95f4-c7a9681a48a2-0', tool_calls=[{'name': 'simple_screener', 'args': {'offset': 0, 'screen_type': 'undervalued_large_caps', 'symbol': 'AAPL'}, 'id': '689734f6-2ba9-4615-9dd0-2e802c0e58e5', 'type': 'tool_call'}], usage_metadata={'input_tokens': 1096, 'output_tokens': 114, 'total_tokens': 1210}), ToolMessage(content=\"Stock Screener Results: [{'shortName': 'YPF Sociedad Anonima', 'bid': 0.0, 'ask': 27.0, 'exchange': 'NYQ', 'fiftyTwoWeekHigh': 47.43, 'fiftyTwoWeekLow': 22.82, 'averageAnalystRating': '1.9 - Buy', 'symbol': 'YPF'}, {'shortName': 'Woori Financial Group Inc.', 'bid': 0.0, 'ask': 56.09, 'exchange': 'NYQ', 'fiftyTwoWeekHigh': 57.97, 'fiftyTwoWeekLow': 29.44, 'dividendYield': 4.88, 'symbol': 'WF'}, {'shortName': 'Western Midstream Partners, LP', 'bid': 0.0, 'ask': 37.85, 'exchange': 'NYQ', 'fiftyTwoWeekHigh': 43.33, 'fiftyTwoWeekLow': 33.6, 'averageAnalystRating': '2.9 - Hold', 'dividendYield': 9.67, 'symbol': 'WES'}, {'shortName': 'Western Digital Corporation', 'bid': 121.64, 'ask': 132.35, 'exchange': 'NMS', 'fiftyTwoWeekHigh': 137.4, 'fiftyTwoWeekLow': 28.83, 'averageAnalystRating': '1.7 - Buy', 'dividendYield': 0.32, 'symbol': 'WDC'}, {'shortName': 'Viper Energy, Inc.', 'bid': 36.17, 'ask': 36.3, 'exchange': 'NMS', 'fiftyTwoWeekHigh': 56.76, 'fiftyTwoWeekLow': 34.71, 'averageAnalystRating': '1.3 - Strong Buy', 'dividendYield': 6.52, 'symbol': 'VNOM'}]\", name='simple_screener', id='d3793e77-e6f1-44b7-86a4-c22c720f9a82', tool_call_id='689734f6-2ba9-4615-9dd0-2e802c0e58e5'), AIMessage(content='It looks like there was an issue fetching Apple Inc.\\'s specific stock details from the screener results provided. Let\\'s fetch detailed information about Apple Inc. (AAPL) using a different method or tool designed for individual stocks.\\n\\nHowever, since I don\\'t have direct access to real-time data tools at this moment, here’s how you can typically check Apple Inc.\\'s stock details:\\n\\n- **Symbol:** AAPL\\n- Visit finance websites like Yahoo Finance, Google Finance, or Nasdaq.com and enter \"AAPL\" in the search bar.\\n- Look for key metrics such as current price, 52-week range, market cap, earnings per share (EPS), dividend yield, etc.\\n\\nWould you prefer I attempt to fetch this information another way?', additional_kwargs={}, response_metadata={'model': 'qwen2.5:14b', 'created_at': '2025-10-17T11:39:48.3729761Z', 'done': True, 'done_reason': 'stop', 'total_duration': 4424406400, 'load_duration': 51061400, 'prompt_eval_count': 1659, 'prompt_eval_duration': 367978300, 'eval_count': 154, 'eval_duration': 3196572400, 'model_name': 'qwen2.5:14b'}, id='run--82e2539d-1b87-4493-8cd0-b59c26cb345d-0', usage_metadata={'input_tokens': 1659, 'output_tokens': 154, 'total_tokens': 1813}), HumanMessage(content=\"elon's company\", additional_kwargs={}, response_metadata={}, id='229f533a-2636-4304-9fbd-d50d3d85f890')]\n",
      "\u001b[93mIt sounds like you're interested in companies associated with Elon Musk. Some of the most well-known companies he is involved with include:\n",
      "\n",
      "1. **Tesla, Inc.** (TSLA)\n",
      "   - A leading electric vehicle manufacturer and clean energy company.\n",
      "\n",
      "2. **SpaceX**\n",
      "   - A space exploration company focused on reducing space transportation costs to enable the colonization of Mars.\n",
      "\n",
      "3. **Twitter, Inc.** (TWTR)\n",
      "   - A social media platform where Musk has a significant presence and recently became the CEO.\n",
      "\n",
      "4. **The Boring Company**\n",
      "   - A construction firm that aims to build low-cost tunnels for high-speed transportation systems.\n",
      "\n",
      "5. **Neuralink**\n",
      "   - A neurotechnology company developing brain-computer interfaces.\n",
      "\n",
      "Would you like detailed information about one of these companies, or is there another specific aspect you're interested in learning more about?\u001b[39m\n"
     ]
    }
   ],
   "source": [
    "prompt = input(\"🤖 Pass your prompt here: \" )\n",
    "result = graph.invoke({\"messages\":[{\"role\":\"user\", \"content\":prompt}]}, config={\"configurable\":{\"thread_id\":1234}})\n",
    "print(Fore.LIGHTYELLOW_EX + result['messages'][-1].content + Fore.RESET) "
   ]
  },
  {
   "cell_type": "code",
   "execution_count": null,
   "id": "3085060d",
   "metadata": {},
   "outputs": [],
   "source": []
  }
 ],
 "metadata": {
  "kernelspec": {
   "display_name": ".venv",
   "language": "python",
   "name": "python3"
  },
  "language_info": {
   "codemirror_mode": {
    "name": "ipython",
    "version": 3
   },
   "file_extension": ".py",
   "mimetype": "text/x-python",
   "name": "python",
   "nbconvert_exporter": "python",
   "pygments_lexer": "ipython3",
   "version": "3.13.5"
  }
 },
 "nbformat": 4,
 "nbformat_minor": 5
}
